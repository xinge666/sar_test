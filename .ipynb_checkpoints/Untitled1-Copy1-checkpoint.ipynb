{
 "cells": [
  {
   "cell_type": "code",
   "execution_count": 3,
   "metadata": {},
   "outputs": [],
   "source": [
    "import torch\n",
    "from torch.autograd import Variable\n"
   ]
  },
  {
   "cell_type": "code",
   "execution_count": 2,
   "metadata": {},
   "outputs": [],
   "source": [
    "import numpy as np"
   ]
  },
  {
   "cell_type": "code",
   "execution_count": 14,
   "metadata": {},
   "outputs": [],
   "source": [
    "class FSMN(object):\n",
    "    def __init__(self, memory_size, input_size, output_size):\n",
    "        self._memory_size = memory_size\n",
    "        self._output_size = output_size\n",
    "        self._input_size = input_size\n",
    "        self._build_graph()\n",
    "\n",
    "    def _build_graph(self):\n",
    "        self._W1 = Variable( torch.rand([self._input_size, self._output_size]))\n",
    "        self._W2 = Variable(torch.rand( [self._input_size, self._output_size]))\n",
    "        self._bias = Variable(torch.rand( [self._output_size]))\n",
    "        self._memory_weights = Variable( torch.rand([self._memory_size]))\n",
    "    def __call__(self, input_data):\n",
    "        batch_size = input_data.shape[0].value\n",
    "        num_steps = input_data.shape[1].value\n",
    "        memory_matrix = []\n",
    "        for step in range(num_steps):\n",
    "            left_num = max(0, step + 1 - self._memory_size)\n",
    "            right_num = num_steps - step - 1\n",
    "            mem = self._memory_weights[min(step, self._memory_size)::-1]\n",
    "            d_batch = np.pad(mem, [[left_num, right_num]])\n",
    "            memory_matrix.append([d_batch])\n",
    "        return memory_matrix"
   ]
  },
  {
   "cell_type": "code",
   "execution_count": 16,
   "metadata": {},
   "outputs": [],
   "source": [
    "temp = FSMN(2,5,3)"
   ]
  },
  {
   "cell_type": "code",
   "execution_count": 18,
   "metadata": {},
   "outputs": [
    {
     "data": {
      "text/plain": [
       "tensor([[0.8272, 0.9283, 0.3104],\n",
       "        [0.3167, 0.7522, 0.3701],\n",
       "        [0.6313, 0.9181, 0.0685],\n",
       "        [0.9470, 0.9742, 0.3616],\n",
       "        [0.2407, 0.3027, 0.9288]])"
      ]
     },
     "execution_count": 18,
     "metadata": {},
     "output_type": "execute_result"
    }
   ],
   "source": [
    "temp._W1"
   ]
  },
  {
   "cell_type": "code",
   "execution_count": null,
   "metadata": {},
   "outputs": [],
   "source": []
  }
 ],
 "metadata": {
  "kernelspec": {
   "display_name": "Python [conda env:tf]",
   "language": "python",
   "name": "conda-env-tf-py"
  },
  "language_info": {
   "codemirror_mode": {
    "name": "ipython",
    "version": 3
   },
   "file_extension": ".py",
   "mimetype": "text/x-python",
   "name": "python",
   "nbconvert_exporter": "python",
   "pygments_lexer": "ipython3",
   "version": "3.6.8"
  }
 },
 "nbformat": 4,
 "nbformat_minor": 2
}
