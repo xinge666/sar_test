{
 "cells": [
  {
   "cell_type": "code",
   "execution_count": 3,
   "metadata": {},
   "outputs": [],
   "source": [
    "from feature.feature_prepare import thchs30,MagicData,primewords,ST_CMDS"
   ]
  },
  {
   "cell_type": "code",
   "execution_count": 6,
   "metadata": {},
   "outputs": [
    {
     "name": "stdout",
     "output_type": "stream",
     "text": [
      "/data/jiaxin.gu/jupyter/asr_test/dataset/data_thchs30/\n"
     ]
    }
   ],
   "source": [
    "thchs30 = thchs30(\"/data/jiaxin.gu/jupyter/asr_test/dataset/data_thchs30\",label_file_type = 'trn')\n",
    "thchs30.read_label_file()"
   ]
  },
  {
   "cell_type": "code",
   "execution_count": 7,
   "metadata": {
    "collapsed": true
   },
   "outputs": [
    {
     "data": {
      "text/plain": [
       "{'chinese': '旅游业 是 西班牙 主要 外汇 收入 来源 之一 同时 也 为 西班牙 创造 了 大量 的 就业 机会',\n",
       " 'pinyin': 'lv3 you2 ye4 shi4 xi1 ban1 ya2 zhu3 yao4 wai4 hui4 shou1 ru4 lai2 yuan2 zhi1 yi1 tong2 shi2 ye3 wei4 xi1 ban1 ya2 chuang4 zao4 le5 da4 liang4 de5 jiu4 ye4 ji1 hui4',\n",
       " 'code': [596,\n",
       "  1158,\n",
       "  1138,\n",
       "  912,\n",
       "  1067,\n",
       "  28,\n",
       "  1119,\n",
       "  1244,\n",
       "  1134,\n",
       "  1039,\n",
       "  415,\n",
       "  914,\n",
       "  855,\n",
       "  525,\n",
       "  1166,\n",
       "  1230,\n",
       "  1139,\n",
       "  1005,\n",
       "  910,\n",
       "  1137,\n",
       "  1051,\n",
       "  1067,\n",
       "  28,\n",
       "  1119,\n",
       "  156,\n",
       "  1192,\n",
       "  540,\n",
       "  191,\n",
       "  561,\n",
       "  208,\n",
       "  457,\n",
       "  1138,\n",
       "  423,\n",
       "  415]}"
      ]
     },
     "execution_count": 7,
     "metadata": {},
     "output_type": "execute_result"
    }
   ],
   "source": [
    "thchs30.label_dic[\"D21_922\"]"
   ]
  },
  {
   "cell_type": "code",
   "execution_count": 8,
   "metadata": {},
   "outputs": [
    {
     "data": {
      "text/plain": [
       "'/data/jiaxin.gu/jupyter/asr_test/dataset/data_thchs30//data/A22_73.wav.trn'"
      ]
     },
     "execution_count": 8,
     "metadata": {},
     "output_type": "execute_result"
    }
   ],
   "source": [
    "thchs30.file_dic[\"file_dic\"][\"trn\"]['A22_73']"
   ]
  },
  {
   "cell_type": "code",
   "execution_count": 9,
   "metadata": {},
   "outputs": [
    {
     "data": {
      "text/plain": [
       "'/data/jiaxin.gu/jupyter/asr_test/dataset/data_thchs30//data/B33_442.wav'"
      ]
     },
     "execution_count": 9,
     "metadata": {},
     "output_type": "execute_result"
    }
   ],
   "source": [
    "thchs30.file_dic['file_dic'][\"wav\"]['B33_442']"
   ]
  },
  {
   "cell_type": "code",
   "execution_count": 10,
   "metadata": {},
   "outputs": [],
   "source": [
    "from utils.file_wav import *"
   ]
  },
  {
   "cell_type": "code",
   "execution_count": 12,
   "metadata": {},
   "outputs": [],
   "source": [
    "wavsignal, fs = read_wav_data(\"/data/jiaxin.gu/jupyter/asr_test/dataset/data_thchs30//data/B33_442.wav\")"
   ]
  },
  {
   "cell_type": "code",
   "execution_count": 13,
   "metadata": {
    "scrolled": true
   },
   "outputs": [
    {
     "data": {
      "text/plain": [
       "(985, 200)"
      ]
     },
     "execution_count": 13,
     "metadata": {},
     "output_type": "execute_result"
    }
   ],
   "source": [
    "np.array(GetFrequencyFeature3(wavsignal, fs)).shape"
   ]
  },
  {
   "cell_type": "code",
   "execution_count": null,
   "metadata": {},
   "outputs": [],
   "source": []
  },
  {
   "cell_type": "code",
   "execution_count": null,
   "metadata": {},
   "outputs": [],
   "source": []
  },
  {
   "cell_type": "code",
   "execution_count": null,
   "metadata": {},
   "outputs": [],
   "source": []
  },
  {
   "cell_type": "code",
   "execution_count": null,
   "metadata": {},
   "outputs": [],
   "source": []
  },
  {
   "cell_type": "code",
   "execution_count": 49,
   "metadata": {},
   "outputs": [],
   "source": [
    "####    transformer"
   ]
  },
  {
   "cell_type": "code",
   "execution_count": 48,
   "metadata": {},
   "outputs": [],
   "source": [
    "import torchvision.transforms as transforms\n",
    "class wav_label_transform(object):\n",
    "    def __init__(self, target_w=1600, target_h=400):\n",
    "        self.target_w = target_w\n",
    "        self.target_h = target_h\n",
    "        mean = [0.485, 0.456, 0.406]   # TODO can be computed \n",
    "        std = [0.229, 0.224, 0.225]\n",
    "        self.wav_tfs = transforms.Compose([transforms.ToTensor(),\n",
    "                                          transforms.Normalize(mean, std, inplace=True)])\n",
    "\n",
    "    def __call__(self, wave, label_str):\n",
    "        wav = self.wav_tfs(wave)\n",
    "        # parse label\n",
    "        label = map(int, label_str.split(' '))\n",
    "        label = list(label)\n",
    "        length = len(label)\n",
    "        return wav, label, length            # now wave is turned in to tensor "
   ]
  },
  {
   "cell_type": "code",
   "execution_count": 50,
   "metadata": {},
   "outputs": [],
   "source": [
    "import os\n",
    "import numpy as np\n",
    "import torch\n",
    "from utils.file_wav import *\n",
    "from torch.utils.data import Dataset\n",
    "from feature.feature_prepare import thchs30,MagicData,primewords,ST_CMDS\n",
    "\n",
    "\n",
    "class ListDataset(Dataset):\n",
    "    def __init__(self,\n",
    "                 wave_root_path,\n",
    "                 label_root_path,\n",
    "                 target_size=(400, 1600),\n",
    "                 transform=None):\n",
    "\n",
    "        if not os.path.exists(wave_root_path):\n",
    "            raise ValueError('wave root path not exists:{}'.format(wave_root_path))\n",
    "        if not os.path.exists(label_root_path):\n",
    "            raise ValueError('label root path not exists:{}'.format(label_root_path))\n",
    "        \n",
    "        thchs30 = thchs30(\"/data/jiaxin.gu/jupyter/sar_test/dataset/data_thchs30\",label_file_type = 'trn')\n",
    "        thchs30.read_label_file()\n",
    "\n",
    "        assert len(target_size) == 2\n",
    "        \n",
    "        self.wave_root_path = wave_root_path               # /data/jiaxin.gu/jupyter/sar_test/dataset/data_thchs30//data/\n",
    "        self.label_root_path = label_root_path      # need a txt file with format like this:\n",
    "                                                    # 3017083_4.wav 1504 2854 1504 2854 1504 2854 1504 2854 1504 2854\n",
    "        self.target_size = target_size \n",
    "        self.transform = transform\n",
    "\n",
    "        self.wave_name_list = list()\n",
    "        self.wave_label_dict = dict()\n",
    "        with open(self.label_root_path, 'r') as fobj:\n",
    "            for line in fobj:\n",
    "                line = line.strip().split(' ', 1)\n",
    "                if len(line) != 2:\n",
    "                    continue\n",
    "                wave_name, label_str = line[0], line[1]\n",
    "                if os.path.exists(os.path.join(self.wave_root_path, wave_name)):\n",
    "                    self.wave_name_list.append(wave_name)     \n",
    "                    self.wave_label_dict[wave_name] = label_str\n",
    "\n",
    "    def __getitem__(self, item):\n",
    "        wave_name = self.wave_name_list[item]\n",
    "        label_str = self.wave_label_dict[wave_name]\n",
    "        \n",
    "        wavsignal, fs = read_wav_data(os.path.join(self.wave_root_path, wave_name))\n",
    "                                                       # \"/data/jiaxin.gu/jupyter/sar_test/dataset/data_thchs30//data/B33_442.wav\")\n",
    "        wave = np.array(GetFrequencyFeature3(wavsignal, fs))\n",
    "        \n",
    "        if self.transform is not None:          # 转换张量\n",
    "            wave, label, length = self.transform(wave, label_str)\n",
    "        else:                                 \n",
    "            label = list(map(int, label_str.strip().split(' ')))\n",
    "            length = len(label)\n",
    "\n",
    "        return wave, label, length\n",
    "    # sample： wave(tensor) label([1532, 146, 47, 518, 20, 1532, 146, 47, 518, 20, 1532, 146, 47, 518, 20]) length(...)\n",
    "\n",
    "    def __len__(self):\n",
    "        return len(self.wave_name_list)\n",
    "\n",
    "\n",
    "def aligin_collate(batch_size):\n",
    "    \"\"\"process variable length labels \"\"\"\n",
    "    wave_list = list()\n",
    "    label_list = list()\n",
    "    length_list = list()\n",
    "    for _, (wave, label, length) in enumerate(batch_size):\n",
    "        wave_list.append(image)\n",
    "        label_list.extend(label)\n",
    "        length_list.append(length)\n",
    "\n",
    "    stacked_wave = torch.stack(wave_list, dim=0)\n",
    "    label = torch.IntTensor(np.array(label_list))\n",
    "    length = torch.IntTensor(np.array(length_list))\n",
    "\n",
    "    return stacked_wave, label, length\n"
   ]
  },
  {
   "cell_type": "code",
   "execution_count": 52,
   "metadata": {},
   "outputs": [
    {
     "ename": "SyntaxError",
     "evalue": "invalid syntax (<ipython-input-52-8c77019f062c>, line 4)",
     "output_type": "error",
     "traceback": [
      "\u001b[0;36m  File \u001b[0;32m\"<ipython-input-52-8c77019f062c>\"\u001b[0;36m, line \u001b[0;32m4\u001b[0m\n\u001b[0;31m    label_root_path=???,\u001b[0m\n\u001b[0m                    ^\u001b[0m\n\u001b[0;31mSyntaxError\u001b[0m\u001b[0;31m:\u001b[0m invalid syntax\n"
     ]
    }
   ],
   "source": [
    "# operation\n",
    "transformer = wav_label_transform() # parm can be set\n",
    "train_dataset = ListDataset(wave_root_path='/data/jiaxin.gu/jupyter/sar_test/dataset/data_thchs30//data/',\n",
    "                            label_root_path=???,\n",
    "                            target_size=(???),\n",
    "                            transform=transformer)\n",
    "\n",
    "train_loader = torch.utils.data.DataLoader(train_dataset,\n",
    "                                           batch_size=???,\n",
    "                                           collate_fn=aligin_collate,\n",
    "                                           shuffle=True,\n",
    "                                           drop_last=True,\n",
    "                                           num_workers=8)\n",
    "\n",
    "def train():\n",
    "    for batch_idx, (wave, label, length) in enumerate(train_loader):\n",
    "        pass"
   ]
  },
  {
   "cell_type": "code",
   "execution_count": null,
   "metadata": {},
   "outputs": [],
   "source": []
  }
 ],
 "metadata": {
  "kernelspec": {
   "display_name": "Python 3",
   "language": "python",
   "name": "python3"
  },
  "language_info": {
   "codemirror_mode": {
    "name": "ipython",
    "version": 3
   },
   "file_extension": ".py",
   "mimetype": "text/x-python",
   "name": "python",
   "nbconvert_exporter": "python",
   "pygments_lexer": "ipython3",
   "version": "3.7.4"
  }
 },
 "nbformat": 4,
 "nbformat_minor": 2
}
